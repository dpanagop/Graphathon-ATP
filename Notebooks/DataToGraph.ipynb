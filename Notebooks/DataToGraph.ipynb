{
 "cells": [
  {
   "cell_type": "markdown",
   "id": "e87b59a0",
   "metadata": {},
   "source": [
    "# Notebook for Loading in the Database and Creating a Graph\n",
    "\n",
    "Start by importing the libraries and connecting to the neo4j sandbox."
   ]
  },
  {
   "cell_type": "code",
   "execution_count": 1,
   "id": "6d7efb69-de57-4efb-9bf7-0770354958ca",
   "metadata": {},
   "outputs": [
    {
     "name": "stderr",
     "output_type": "stream",
     "text": [
      "/home/seb_s_ben/.local/lib/python3.10/site-packages/tqdm/auto.py:22: TqdmWarning: IProgress not found. Please update jupyter and ipywidgets. See https://ipywidgets.readthedocs.io/en/stable/user_install.html\n",
      "  from .autonotebook import tqdm as notebook_tqdm\n"
     ]
    }
   ],
   "source": [
    "# imports\n",
    "import pandas as pd\n",
    "from graphdatascience import GraphDataScience"
   ]
  },
  {
   "cell_type": "code",
   "execution_count": 2,
   "id": "6b4a6d31",
   "metadata": {},
   "outputs": [],
   "source": [
    "# Connect to neo4j DBMS\n",
    "\n",
    "#this is local DBMS via neo4j Desktop for testing purposes needs to be changed\n",
    "DB_ULR = \"bolt://localhost:11004\" \n",
    "DB_USER = \"neo4j\"\n",
    "DB_PASS = \"1234\"\n",
    "DB_NAME = \"neo4j\"\n",
    "gds = GraphDataScience(DB_ULR, auth=(DB_USER, DB_PASS))"
   ]
  },
  {
   "cell_type": "markdown",
   "id": "e694de76-4d50-4bb5-92b6-e3ac52a2a909",
   "metadata": {},
   "source": [
    "## Loading data into the graph"
   ]
  },
  {
   "cell_type": "markdown",
   "id": "a8f01b46-5489-42cb-9442-1c7cd96bc257",
   "metadata": {},
   "source": [
    "Preprocessed data stored in https://github.com/EY-Tech-Consulting-Denmark/Graphathon-ATP/tree/main/Data/clean_data can be loaded into a Neo4j sandbox."
   ]
  },
  {
   "cell_type": "markdown",
   "id": "f8d36247-291d-41be-837c-3a16c79b1803",
   "metadata": {},
   "source": [
    "### Loading the preprocessed data"
   ]
  },
  {
   "cell_type": "code",
   "execution_count": 3,
   "id": "5d71d660-883f-4180-ab77-8abab6c1c205",
   "metadata": {},
   "outputs": [
    {
     "data": {
      "text/html": [
       "<div>\n",
       "<style scoped>\n",
       "    .dataframe tbody tr th:only-of-type {\n",
       "        vertical-align: middle;\n",
       "    }\n",
       "\n",
       "    .dataframe tbody tr th {\n",
       "        vertical-align: top;\n",
       "    }\n",
       "\n",
       "    .dataframe thead th {\n",
       "        text-align: right;\n",
       "    }\n",
       "</style>\n",
       "<table border=\"1\" class=\"dataframe\">\n",
       "  <thead>\n",
       "    <tr style=\"text-align: right;\">\n",
       "      <th></th>\n",
       "      <th>BeneID</th>\n",
       "      <th>DOB</th>\n",
       "      <th>DOD</th>\n",
       "      <th>Gender</th>\n",
       "      <th>Race</th>\n",
       "      <th>RenalDiseaseIndicator</th>\n",
       "      <th>State</th>\n",
       "      <th>County</th>\n",
       "      <th>NoOfMonths_PartACov</th>\n",
       "      <th>NoOfMonths_PartBCov</th>\n",
       "      <th>...</th>\n",
       "      <th>ClmProcedureCode_5</th>\n",
       "      <th>PotentialFraud</th>\n",
       "      <th>Age</th>\n",
       "      <th>IsDead</th>\n",
       "      <th>DaysAdmitted</th>\n",
       "      <th>DaysClaimLasted</th>\n",
       "      <th>ClaimEndAfterDischarged</th>\n",
       "      <th>TotalDiagnosis</th>\n",
       "      <th>TotalProcedures</th>\n",
       "      <th>TotalPhysicians</th>\n",
       "    </tr>\n",
       "  </thead>\n",
       "  <tbody>\n",
       "    <tr>\n",
       "      <th>0</th>\n",
       "      <td>BENE11001</td>\n",
       "      <td>1943-01-01</td>\n",
       "      <td>NaN</td>\n",
       "      <td>1</td>\n",
       "      <td>1</td>\n",
       "      <td>0</td>\n",
       "      <td>39</td>\n",
       "      <td>230</td>\n",
       "      <td>12</td>\n",
       "      <td>12</td>\n",
       "      <td>...</td>\n",
       "      <td>NaN</td>\n",
       "      <td>1</td>\n",
       "      <td>66.0</td>\n",
       "      <td>0</td>\n",
       "      <td>7</td>\n",
       "      <td>7</td>\n",
       "      <td>0</td>\n",
       "      <td>9</td>\n",
       "      <td>0</td>\n",
       "      <td>1</td>\n",
       "    </tr>\n",
       "    <tr>\n",
       "      <th>1</th>\n",
       "      <td>BENE17521</td>\n",
       "      <td>1913-12-01</td>\n",
       "      <td>NaN</td>\n",
       "      <td>2</td>\n",
       "      <td>1</td>\n",
       "      <td>0</td>\n",
       "      <td>39</td>\n",
       "      <td>230</td>\n",
       "      <td>12</td>\n",
       "      <td>12</td>\n",
       "      <td>...</td>\n",
       "      <td>NaN</td>\n",
       "      <td>1</td>\n",
       "      <td>95.0</td>\n",
       "      <td>0</td>\n",
       "      <td>13</td>\n",
       "      <td>13</td>\n",
       "      <td>0</td>\n",
       "      <td>9</td>\n",
       "      <td>2</td>\n",
       "      <td>3</td>\n",
       "    </tr>\n",
       "    <tr>\n",
       "      <th>2</th>\n",
       "      <td>BENE21718</td>\n",
       "      <td>1922-10-01</td>\n",
       "      <td>NaN</td>\n",
       "      <td>1</td>\n",
       "      <td>1</td>\n",
       "      <td>0</td>\n",
       "      <td>39</td>\n",
       "      <td>600</td>\n",
       "      <td>12</td>\n",
       "      <td>12</td>\n",
       "      <td>...</td>\n",
       "      <td>NaN</td>\n",
       "      <td>1</td>\n",
       "      <td>87.0</td>\n",
       "      <td>0</td>\n",
       "      <td>19</td>\n",
       "      <td>19</td>\n",
       "      <td>0</td>\n",
       "      <td>9</td>\n",
       "      <td>1</td>\n",
       "      <td>2</td>\n",
       "    </tr>\n",
       "    <tr>\n",
       "      <th>3</th>\n",
       "      <td>BENE22934</td>\n",
       "      <td>1930-07-01</td>\n",
       "      <td>NaN</td>\n",
       "      <td>2</td>\n",
       "      <td>1</td>\n",
       "      <td>0</td>\n",
       "      <td>39</td>\n",
       "      <td>280</td>\n",
       "      <td>12</td>\n",
       "      <td>12</td>\n",
       "      <td>...</td>\n",
       "      <td>NaN</td>\n",
       "      <td>1</td>\n",
       "      <td>79.0</td>\n",
       "      <td>0</td>\n",
       "      <td>5</td>\n",
       "      <td>5</td>\n",
       "      <td>0</td>\n",
       "      <td>7</td>\n",
       "      <td>1</td>\n",
       "      <td>3</td>\n",
       "    </tr>\n",
       "    <tr>\n",
       "      <th>4</th>\n",
       "      <td>BENE24402</td>\n",
       "      <td>1925-09-01</td>\n",
       "      <td>NaN</td>\n",
       "      <td>2</td>\n",
       "      <td>2</td>\n",
       "      <td>0</td>\n",
       "      <td>39</td>\n",
       "      <td>510</td>\n",
       "      <td>12</td>\n",
       "      <td>12</td>\n",
       "      <td>...</td>\n",
       "      <td>NaN</td>\n",
       "      <td>1</td>\n",
       "      <td>83.0</td>\n",
       "      <td>0</td>\n",
       "      <td>5</td>\n",
       "      <td>5</td>\n",
       "      <td>0</td>\n",
       "      <td>1</td>\n",
       "      <td>1</td>\n",
       "      <td>2</td>\n",
       "    </tr>\n",
       "  </tbody>\n",
       "</table>\n",
       "<p>5 rows × 62 columns</p>\n",
       "</div>"
      ],
      "text/plain": [
       "      BeneID         DOB  DOD  Gender  Race  RenalDiseaseIndicator  State  \\\n",
       "0  BENE11001  1943-01-01  NaN       1     1                      0     39   \n",
       "1  BENE17521  1913-12-01  NaN       2     1                      0     39   \n",
       "2  BENE21718  1922-10-01  NaN       1     1                      0     39   \n",
       "3  BENE22934  1930-07-01  NaN       2     1                      0     39   \n",
       "4  BENE24402  1925-09-01  NaN       2     2                      0     39   \n",
       "\n",
       "   County  NoOfMonths_PartACov  NoOfMonths_PartBCov  ...  ClmProcedureCode_5  \\\n",
       "0     230                   12                   12  ...                 NaN   \n",
       "1     230                   12                   12  ...                 NaN   \n",
       "2     600                   12                   12  ...                 NaN   \n",
       "3     280                   12                   12  ...                 NaN   \n",
       "4     510                   12                   12  ...                 NaN   \n",
       "\n",
       "   PotentialFraud   Age  IsDead  DaysAdmitted  DaysClaimLasted  \\\n",
       "0               1  66.0       0             7                7   \n",
       "1               1  95.0       0            13               13   \n",
       "2               1  87.0       0            19               19   \n",
       "3               1  79.0       0             5                5   \n",
       "4               1  83.0       0             5                5   \n",
       "\n",
       "   ClaimEndAfterDischarged  TotalDiagnosis  TotalProcedures  TotalPhysicians  \n",
       "0                        0               9                0                1  \n",
       "1                        0               9                2                3  \n",
       "2                        0               9                1                2  \n",
       "3                        0               7                1                3  \n",
       "4                        0               1                1                2  \n",
       "\n",
       "[5 rows x 62 columns]"
      ]
     },
     "execution_count": 3,
     "metadata": {},
     "output_type": "execute_result"
    }
   ],
   "source": [
    "data = pd.read_csv(\"../Data/clean_data/data.csv\") # pd.read_csv(\"https://raw.githubusercontent.com/EY-Tech-Consulting-Denmark/Graphathon-ATP/main/Data/clean_data/data.csv\")\n",
    "data.head()"
   ]
  },
  {
   "cell_type": "markdown",
   "id": "837fe304",
   "metadata": {},
   "source": [
    "## Create the nodes in the graph\n",
    "Start with creating beneficiary nodes and attaching the chronic conditions they have as relationships (includes renal disease)"
   ]
  },
  {
   "cell_type": "code",
   "execution_count": 4,
   "id": "03d6dfb3-0826-4daa-a0a5-3686bffede5c",
   "metadata": {},
   "outputs": [
    {
     "data": {
      "text/html": [
       "<div>\n",
       "<style scoped>\n",
       "    .dataframe tbody tr th:only-of-type {\n",
       "        vertical-align: middle;\n",
       "    }\n",
       "\n",
       "    .dataframe tbody tr th {\n",
       "        vertical-align: top;\n",
       "    }\n",
       "\n",
       "    .dataframe thead th {\n",
       "        text-align: right;\n",
       "    }\n",
       "</style>\n",
       "<table border=\"1\" class=\"dataframe\">\n",
       "  <thead>\n",
       "    <tr style=\"text-align: right;\">\n",
       "      <th></th>\n",
       "    </tr>\n",
       "  </thead>\n",
       "  <tbody>\n",
       "  </tbody>\n",
       "</table>\n",
       "</div>"
      ],
      "text/plain": [
       "Empty DataFrame\n",
       "Columns: []\n",
       "Index: []"
      ]
     },
     "execution_count": 4,
     "metadata": {},
     "output_type": "execute_result"
    }
   ],
   "source": [
    "# Create the Condition nodes \n",
    "gds.run_cypher('create constraint if not exists for (n:Condition) require (n.id) is node key')\n",
    "gds.run_cypher('''\n",
    "    unwind [\n",
    "        'RenalDiseaseIndicator',\n",
    "        'ChronicCond_Alzheimer', 'ChronicCond_Heartfailure',\n",
    "        'ChronicCond_KidneyDisease', 'ChronicCond_Cancer',\n",
    "        'ChronicCond_ObstrPulmonary', 'ChronicCond_Depression',\n",
    "        'ChronicCond_Diabetes', 'ChronicCond_IschemicHeart',\n",
    "        'ChronicCond_Osteoporasis', 'ChronicCond_rheumatoidarthritis',\n",
    "        'ChronicCond_stroke'\n",
    "    ] as conditionId\n",
    "    merge (n:Condition{id: conditionId})\n",
    "''')"
   ]
  },
  {
   "cell_type": "code",
   "execution_count": 5,
   "id": "f1da55dc",
   "metadata": {},
   "outputs": [
    {
     "data": {
      "text/html": [
       "<div>\n",
       "<style scoped>\n",
       "    .dataframe tbody tr th:only-of-type {\n",
       "        vertical-align: middle;\n",
       "    }\n",
       "\n",
       "    .dataframe tbody tr th {\n",
       "        vertical-align: top;\n",
       "    }\n",
       "\n",
       "    .dataframe thead th {\n",
       "        text-align: right;\n",
       "    }\n",
       "</style>\n",
       "<table border=\"1\" class=\"dataframe\">\n",
       "  <thead>\n",
       "    <tr style=\"text-align: right;\">\n",
       "      <th></th>\n",
       "    </tr>\n",
       "  </thead>\n",
       "  <tbody>\n",
       "  </tbody>\n",
       "</table>\n",
       "</div>"
      ],
      "text/plain": [
       "Empty DataFrame\n",
       "Columns: []\n",
       "Index: []"
      ]
     },
     "execution_count": 5,
     "metadata": {},
     "output_type": "execute_result"
    }
   ],
   "source": [
    "# Create Beneficiary nodes and connect them with HAS_CONDITION relationships to their corrosponding chronic conditions\n",
    "gds.run_cypher('create constraint if not exists for (n:Beneficiary) require (n.id) is node key')\n",
    "gds.run_cypher('''\n",
    "    match (c:Condition)\n",
    "    with collect(c) as conditions\n",
    "    unwind $data as row\n",
    "    merge (n:Beneficiary{id: row.BeneID})\n",
    "        set n.dob = date(row.DOB),\n",
    "            n.gender = row.Gender,\n",
    "            n.race = row.Race,\n",
    "            n.age = row.Age,\n",
    "            n.state = row.State,\n",
    "            n.county = row.County\n",
    "    with conditions, n, row\n",
    "    call {\n",
    "        with row, conditions, n\n",
    "        foreach(\n",
    "            c in [x in conditions where row[x.id] = 1 or row[x.id] = 'Y' | x] |\n",
    "            merge (n)-[:HAS_CONDITION]->(c)\n",
    "        )\n",
    "    }\n",
    "''', params = {'data': data.to_dict('records')})"
   ]
  },
  {
   "cell_type": "code",
   "execution_count": 6,
   "id": "533a9057",
   "metadata": {},
   "outputs": [
    {
     "data": {
      "text/html": [
       "<div>\n",
       "<style scoped>\n",
       "    .dataframe tbody tr th:only-of-type {\n",
       "        vertical-align: middle;\n",
       "    }\n",
       "\n",
       "    .dataframe tbody tr th {\n",
       "        vertical-align: top;\n",
       "    }\n",
       "\n",
       "    .dataframe thead th {\n",
       "        text-align: right;\n",
       "    }\n",
       "</style>\n",
       "<table border=\"1\" class=\"dataframe\">\n",
       "  <thead>\n",
       "    <tr style=\"text-align: right;\">\n",
       "      <th></th>\n",
       "    </tr>\n",
       "  </thead>\n",
       "  <tbody>\n",
       "  </tbody>\n",
       "</table>\n",
       "</div>"
      ],
      "text/plain": [
       "Empty DataFrame\n",
       "Columns: []\n",
       "Index: []"
      ]
     },
     "execution_count": 6,
     "metadata": {},
     "output_type": "execute_result"
    }
   ],
   "source": [
    "# Add date of death (DOD) to beneficiaries who have passed away\n",
    "\n",
    "dead = data[['BeneID','DOD']].dropna()\n",
    "gds.run_cypher(''' \n",
    "    unwind $data as row\n",
    "    match (n:Beneficiary{id: row.BeneID})\n",
    "        set n.dod = date(row.DOD)\n",
    "''', params = {'data': dead.to_dict('records')})"
   ]
  },
  {
   "cell_type": "code",
   "execution_count": 7,
   "id": "146cc55a",
   "metadata": {},
   "outputs": [
    {
     "data": {
      "text/html": [
       "<div>\n",
       "<style scoped>\n",
       "    .dataframe tbody tr th:only-of-type {\n",
       "        vertical-align: middle;\n",
       "    }\n",
       "\n",
       "    .dataframe tbody tr th {\n",
       "        vertical-align: top;\n",
       "    }\n",
       "\n",
       "    .dataframe thead th {\n",
       "        text-align: right;\n",
       "    }\n",
       "</style>\n",
       "<table border=\"1\" class=\"dataframe\">\n",
       "  <thead>\n",
       "    <tr style=\"text-align: right;\">\n",
       "      <th></th>\n",
       "      <th>is_fraud</th>\n",
       "      <th>count</th>\n",
       "    </tr>\n",
       "  </thead>\n",
       "  <tbody>\n",
       "    <tr>\n",
       "      <th>0</th>\n",
       "      <td>True</td>\n",
       "      <td>23402</td>\n",
       "    </tr>\n",
       "    <tr>\n",
       "      <th>1</th>\n",
       "      <td>False</td>\n",
       "      <td>17072</td>\n",
       "    </tr>\n",
       "  </tbody>\n",
       "</table>\n",
       "</div>"
      ],
      "text/plain": [
       "   is_fraud  count\n",
       "0      True  23402\n",
       "1     False  17072"
      ]
     },
     "execution_count": 7,
     "metadata": {},
     "output_type": "execute_result"
    }
   ],
   "source": [
    "# Create Provider nodes\n",
    "\n",
    "gds.run_cypher('create constraint if not exists for (n:Provider) require (n.id) is node key')\n",
    "label_dist = gds.run_cypher('''\n",
    "    unwind $data as row\n",
    "    merge (n:Provider{id: row.Provider})\n",
    "        set n.fraud = case row.PotentialFraud when 1 then true else false end\n",
    "    return n.fraud as is_fraud, count(*) as count\n",
    "''', params = {'data': data.to_dict('records')})\n",
    "label_dist.head()\n"
   ]
  },
  {
   "cell_type": "markdown",
   "id": "3f5d2b87",
   "metadata": {},
   "source": [
    "### Create Claims Data\n",
    "\n",
    "Going to create a node for each Claim, Provider, Physician, Diagnosis, and Procedure code. Create the relationships between beneficiary and their claims."
   ]
  },
  {
   "cell_type": "code",
   "execution_count": 9,
   "id": "47ec06a8",
   "metadata": {},
   "outputs": [
    {
     "data": {
      "text/html": [
       "<div>\n",
       "<style scoped>\n",
       "    .dataframe tbody tr th:only-of-type {\n",
       "        vertical-align: middle;\n",
       "    }\n",
       "\n",
       "    .dataframe tbody tr th {\n",
       "        vertical-align: top;\n",
       "    }\n",
       "\n",
       "    .dataframe thead th {\n",
       "        text-align: right;\n",
       "    }\n",
       "</style>\n",
       "<table border=\"1\" class=\"dataframe\">\n",
       "  <thead>\n",
       "    <tr style=\"text-align: right;\">\n",
       "      <th></th>\n",
       "    </tr>\n",
       "  </thead>\n",
       "  <tbody>\n",
       "  </tbody>\n",
       "</table>\n",
       "</div>"
      ],
      "text/plain": [
       "Empty DataFrame\n",
       "Columns: []\n",
       "Index: []"
      ]
     },
     "execution_count": 9,
     "metadata": {},
     "output_type": "execute_result"
    }
   ],
   "source": [
    "# Create claims data\n",
    "\n",
    "# Create constraints on our new node labels\n",
    "gds.run_cypher('create constraint if not exists for (n:Claim) require (n.id) is node key')\n",
    "gds.run_cypher('create constraint if not exists for (n:Provider) require (n.id) is node key')\n",
    "gds.run_cypher('create constraint if not exists for (n:Physician) require (n.id) is node key')\n",
    "gds.run_cypher('create constraint if not exists for (n:Diagnosis) require (n.id) is node key')\n",
    "gds.run_cypher('create constraint if not exists for (n:Procedure) require (n.id) is node key')\n",
    "\n",
    "claims_cypher = '''\n",
    "    unwind $data as row\n",
    "    merge (c:Claim{id: row.ClaimID})\n",
    "        set c.startDate = date(row.ClaimStartDt),\n",
    "            c.endDate = date(row.ClaimEndDt),\n",
    "            c.admissionDate = date(row.AdmissionDt),\n",
    "            c.dischargeDate = date(row.DischargeDt),\n",
    "            c.deductibleAmt = row.DeductibleAmtPaid,\n",
    "            c.reimbursedAmt = row.InscClaimAmtReimbursed\n",
    "            c.daysAdmitted = row.DaysAdmitted\n",
    "            c.daysClaimLasted = row.DaysClaimLasted\n",
    "            c.claimEndAfterDischarged = row.ClaimEndAfterDischarged \n",
    "    merge (p:Provider{id: row.Provider})\n",
    "    merge (c)-[:PROVIDER]->(p)\n",
    "    merge (b:Beneficiary{id: row.BeneID})\n",
    "    merge (c)-[:BENEFICIARY]->(b)\n",
    "    '''\n",
    "\n",
    "gds.run_cypher(claims_cypher, params = {'data': data.to_dict('records')})"
   ]
  },
  {
   "cell_type": "code",
   "execution_count": 10,
   "id": "a4b848c2",
   "metadata": {},
   "outputs": [
    {
     "data": {
      "text/html": [
       "<div>\n",
       "<style scoped>\n",
       "    .dataframe tbody tr th:only-of-type {\n",
       "        vertical-align: middle;\n",
       "    }\n",
       "\n",
       "    .dataframe tbody tr th {\n",
       "        vertical-align: top;\n",
       "    }\n",
       "\n",
       "    .dataframe thead th {\n",
       "        text-align: right;\n",
       "    }\n",
       "</style>\n",
       "<table border=\"1\" class=\"dataframe\">\n",
       "  <thead>\n",
       "    <tr style=\"text-align: right;\">\n",
       "      <th></th>\n",
       "    </tr>\n",
       "  </thead>\n",
       "  <tbody>\n",
       "  </tbody>\n",
       "</table>\n",
       "</div>"
      ],
      "text/plain": [
       "Empty DataFrame\n",
       "Columns: []\n",
       "Index: []"
      ]
     },
     "execution_count": 10,
     "metadata": {},
     "output_type": "execute_result"
    }
   ],
   "source": [
    "# Create Diagnoses code nodes and create the relationship ADMIT_DIAGNOSIS\n",
    "\n",
    "gds.run_cypher('''\n",
    "    unwind $data as row\n",
    "    match (c:Claim)\n",
    "    where c.id = row.ClaimID\n",
    "    merge (d:Diagnosis{id: row.ClmAdmitDiagnosisCode})\n",
    "    merge (c)-[:ADMIT_DIAGNOSIS]->(d)\n",
    "''', params = {'data': data.to_dict('records')})"
   ]
  },
  {
   "cell_type": "code",
   "execution_count": 11,
   "id": "32b60b17",
   "metadata": {},
   "outputs": [
    {
     "data": {
      "text/html": [
       "<div>\n",
       "<style scoped>\n",
       "    .dataframe tbody tr th:only-of-type {\n",
       "        vertical-align: middle;\n",
       "    }\n",
       "\n",
       "    .dataframe tbody tr th {\n",
       "        vertical-align: top;\n",
       "    }\n",
       "\n",
       "    .dataframe thead th {\n",
       "        text-align: right;\n",
       "    }\n",
       "</style>\n",
       "<table border=\"1\" class=\"dataframe\">\n",
       "  <thead>\n",
       "    <tr style=\"text-align: right;\">\n",
       "      <th></th>\n",
       "    </tr>\n",
       "  </thead>\n",
       "  <tbody>\n",
       "  </tbody>\n",
       "</table>\n",
       "</div>"
      ],
      "text/plain": [
       "Empty DataFrame\n",
       "Columns: []\n",
       "Index: []"
      ]
     },
     "execution_count": 11,
     "metadata": {},
     "output_type": "execute_result"
    }
   ],
   "source": [
    "# Create Diagnoses code nodes and create the relationship ADMIT_DIAGNOSIS\n",
    "\n",
    "gds.run_cypher('''\n",
    "    unwind $data as row\n",
    "    match (c:Claim)\n",
    "    where c.id = row.ClaimID\n",
    "    merge (d:Diagnosis{id: row.DiagnosisGroupCode})\n",
    "    merge (c)-[:DIAGNOSIS_GROUP]->(d)\n",
    "''', params = {'data': data.to_dict('records')})"
   ]
  },
  {
   "cell_type": "code",
   "execution_count": 26,
   "id": "a571b275",
   "metadata": {},
   "outputs": [
    {
     "data": {
      "text/html": [
       "<div>\n",
       "<style scoped>\n",
       "    .dataframe tbody tr th:only-of-type {\n",
       "        vertical-align: middle;\n",
       "    }\n",
       "\n",
       "    .dataframe tbody tr th {\n",
       "        vertical-align: top;\n",
       "    }\n",
       "\n",
       "    .dataframe thead th {\n",
       "        text-align: right;\n",
       "    }\n",
       "</style>\n",
       "<table border=\"1\" class=\"dataframe\">\n",
       "  <thead>\n",
       "    <tr style=\"text-align: right;\">\n",
       "      <th></th>\n",
       "    </tr>\n",
       "  </thead>\n",
       "  <tbody>\n",
       "  </tbody>\n",
       "</table>\n",
       "</div>"
      ],
      "text/plain": [
       "Empty DataFrame\n",
       "Columns: []\n",
       "Index: []"
      ]
     },
     "execution_count": 26,
     "metadata": {},
     "output_type": "execute_result"
    }
   ],
   "source": [
    "# Create the relationships between claims and claim diagnoses codes\n",
    "gds.run_cypher('''\n",
    "    unwind $data as row\n",
    "    match (c:Claim{id: row.ClaimID})\n",
    "    with c, row, [ x in  [ 'ClmDiagnosisCode_1', 'ClmDiagnosisCode_2', 'ClmDiagnosisCode_3',\n",
    "                            'ClmDiagnosisCode_4', 'ClmDiagnosisCode_5', 'ClmDiagnosisCode_6',\n",
    "                            'ClmDiagnosisCode_7', 'ClmDiagnosisCode_8', 'ClmDiagnosisCode_9',\n",
    "                            'ClmDiagnosisCode_10' ] where not row[x] is null |\n",
    "                   row[x]] as codes\n",
    "    foreach(\n",
    "        code in codes | \n",
    "        merge (d:Diagnosis{id: code})\n",
    "        merge (c)-[:DIAGNOSIS_CODE]->(d)\n",
    "    )\n",
    "''', params = {'data': data.to_dict('records')})"
   ]
  },
  {
   "cell_type": "markdown",
   "id": "4a2b09d7",
   "metadata": {},
   "source": [
    "### Add Procedure nodes and connect them with the claim nodes"
   ]
  },
  {
   "cell_type": "code",
   "execution_count": 27,
   "id": "9ae05517",
   "metadata": {},
   "outputs": [
    {
     "data": {
      "text/html": [
       "<div>\n",
       "<style scoped>\n",
       "    .dataframe tbody tr th:only-of-type {\n",
       "        vertical-align: middle;\n",
       "    }\n",
       "\n",
       "    .dataframe tbody tr th {\n",
       "        vertical-align: top;\n",
       "    }\n",
       "\n",
       "    .dataframe thead th {\n",
       "        text-align: right;\n",
       "    }\n",
       "</style>\n",
       "<table border=\"1\" class=\"dataframe\">\n",
       "  <thead>\n",
       "    <tr style=\"text-align: right;\">\n",
       "      <th></th>\n",
       "    </tr>\n",
       "  </thead>\n",
       "  <tbody>\n",
       "  </tbody>\n",
       "</table>\n",
       "</div>"
      ],
      "text/plain": [
       "Empty DataFrame\n",
       "Columns: []\n",
       "Index: []"
      ]
     },
     "execution_count": 27,
     "metadata": {},
     "output_type": "execute_result"
    }
   ],
   "source": [
    "# Create the relationships between claims and procedure codes\n",
    "\n",
    "gds.run_cypher('''\n",
    "    unwind $data as row\n",
    "    match (c:Claim{id: row.ClaimID})\n",
    "    with c, row, [ x in  [ 'ClmProcedureCode_1', 'ClmProcedureCode_2',\n",
    "                            'ClmProcedureCode_3', 'ClmProcedureCode_4', 'ClmProcedureCode_5',\n",
    "                            'ClmProcedureCode_6' ] where not row[x] is null |\n",
    "                   row[x]] as codes\n",
    "    foreach(\n",
    "        code in codes | \n",
    "        merge (p:Procedure{id: code})\n",
    "        merge (c)-[:PROCEDURE_CODE]->(p)\n",
    "    )\n",
    "''', params = {'data': data.to_dict('records')})"
   ]
  },
  {
   "cell_type": "markdown",
   "id": "69a2b0fd",
   "metadata": {},
   "source": [
    "### Add the Physician nodes"
   ]
  },
  {
   "cell_type": "code",
   "execution_count": 22,
   "id": "a9f15534",
   "metadata": {},
   "outputs": [
    {
     "data": {
      "text/html": [
       "<div>\n",
       "<style scoped>\n",
       "    .dataframe tbody tr th:only-of-type {\n",
       "        vertical-align: middle;\n",
       "    }\n",
       "\n",
       "    .dataframe tbody tr th {\n",
       "        vertical-align: top;\n",
       "    }\n",
       "\n",
       "    .dataframe thead th {\n",
       "        text-align: right;\n",
       "    }\n",
       "</style>\n",
       "<table border=\"1\" class=\"dataframe\">\n",
       "  <thead>\n",
       "    <tr style=\"text-align: right;\">\n",
       "      <th></th>\n",
       "    </tr>\n",
       "  </thead>\n",
       "  <tbody>\n",
       "  </tbody>\n",
       "</table>\n",
       "</div>"
      ],
      "text/plain": [
       "Empty DataFrame\n",
       "Columns: []\n",
       "Index: []"
      ]
     },
     "execution_count": 22,
     "metadata": {},
     "output_type": "execute_result"
    }
   ],
   "source": [
    "# Add Physicians and their realtionship to the claim\n",
    "\n",
    "# Add attending physicians\n",
    "attend = data[['ClaimID','AttendingPhysician']].dropna()\n",
    "\n",
    "gds.run_cypher(''' \n",
    "    unwind $data as row\n",
    "    match (n:Claim{id: row.ClaimID})\n",
    "    merge (ap:Physician{id: row.AttendingPhysician})\n",
    "    merge (n)-[:ATTENDING]->(ap)\n",
    "''', params = {'data': attend.to_dict('records')})"
   ]
  },
  {
   "cell_type": "code",
   "execution_count": 23,
   "id": "876efbb9",
   "metadata": {},
   "outputs": [
    {
     "data": {
      "text/html": [
       "<div>\n",
       "<style scoped>\n",
       "    .dataframe tbody tr th:only-of-type {\n",
       "        vertical-align: middle;\n",
       "    }\n",
       "\n",
       "    .dataframe tbody tr th {\n",
       "        vertical-align: top;\n",
       "    }\n",
       "\n",
       "    .dataframe thead th {\n",
       "        text-align: right;\n",
       "    }\n",
       "</style>\n",
       "<table border=\"1\" class=\"dataframe\">\n",
       "  <thead>\n",
       "    <tr style=\"text-align: right;\">\n",
       "      <th></th>\n",
       "    </tr>\n",
       "  </thead>\n",
       "  <tbody>\n",
       "  </tbody>\n",
       "</table>\n",
       "</div>"
      ],
      "text/plain": [
       "Empty DataFrame\n",
       "Columns: []\n",
       "Index: []"
      ]
     },
     "execution_count": 23,
     "metadata": {},
     "output_type": "execute_result"
    }
   ],
   "source": [
    "# Add operating physicians\n",
    "operating = data[['ClaimID','OperatingPhysician']].dropna()\n",
    "\n",
    "gds.run_cypher(''' \n",
    "    unwind $data as row\n",
    "    match (n:Claim{id: row.ClaimID})\n",
    "    merge (ap:Physician{id: row.OperatingPhysician})\n",
    "    merge (n)-[:OPERATING]->(ap)\n",
    "''', params = {'data': operating.to_dict('records')})"
   ]
  },
  {
   "cell_type": "code",
   "execution_count": 24,
   "id": "41d988df",
   "metadata": {},
   "outputs": [
    {
     "data": {
      "text/html": [
       "<div>\n",
       "<style scoped>\n",
       "    .dataframe tbody tr th:only-of-type {\n",
       "        vertical-align: middle;\n",
       "    }\n",
       "\n",
       "    .dataframe tbody tr th {\n",
       "        vertical-align: top;\n",
       "    }\n",
       "\n",
       "    .dataframe thead th {\n",
       "        text-align: right;\n",
       "    }\n",
       "</style>\n",
       "<table border=\"1\" class=\"dataframe\">\n",
       "  <thead>\n",
       "    <tr style=\"text-align: right;\">\n",
       "      <th></th>\n",
       "    </tr>\n",
       "  </thead>\n",
       "  <tbody>\n",
       "  </tbody>\n",
       "</table>\n",
       "</div>"
      ],
      "text/plain": [
       "Empty DataFrame\n",
       "Columns: []\n",
       "Index: []"
      ]
     },
     "execution_count": 24,
     "metadata": {},
     "output_type": "execute_result"
    }
   ],
   "source": [
    "# Add other physicians\n",
    "other = data[['ClaimID','OtherPhysician']].dropna()\n",
    "\n",
    "gds.run_cypher(''' \n",
    "    unwind $data as row\n",
    "    match (n:Claim{id: row.ClaimID})\n",
    "    merge (ap:Physician{id: row.OtherPhysician})\n",
    "    merge (n)-[:OTHER]->(ap)\n",
    "''', params = {'data': other.to_dict('records')})"
   ]
  },
  {
   "cell_type": "markdown",
   "id": "6b441cf8",
   "metadata": {},
   "source": [
    "This marks the end of data loading here is the final schema of the data. To see this in the sandbox execute: CALL db.schema.visualization()"
   ]
  }
 ],
 "metadata": {
  "kernelspec": {
   "display_name": "Python 3.10.6 64-bit",
   "language": "python",
   "name": "python3"
  },
  "language_info": {
   "codemirror_mode": {
    "name": "ipython",
    "version": 3
   },
   "file_extension": ".py",
   "mimetype": "text/x-python",
   "name": "python",
   "nbconvert_exporter": "python",
   "pygments_lexer": "ipython3",
   "version": "3.10.6 (main, Aug 10 2022, 11:40:04) [GCC 11.3.0]"
  },
  "vscode": {
   "interpreter": {
    "hash": "31f2aee4e71d21fbe5cf8b01ff0e069b9275f58929596ceb00d14d90e3e16cd6"
   }
  }
 },
 "nbformat": 4,
 "nbformat_minor": 5
}
